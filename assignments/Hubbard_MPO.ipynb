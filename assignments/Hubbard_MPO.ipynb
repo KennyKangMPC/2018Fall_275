{
 "cells": [
  {
   "cell_type": "markdown",
   "metadata": {},
   "source": [
    "## Problem 4b\n",
    "\n",
    "Modify the finite system DMRG code provided in the lecture to solve a one-dimensional Hubbard model with $10$ sites.  \n",
    "\n",
    "$$H=-t\\sum_{i=1}^{L-1} \\sum_{\\sigma} \\left(c_{i,\\sigma}^{\\dagger} c_{i+1,\\sigma} + h.c. \\right) + \\sum_{i=1}^L U n_{i,\\uparrow} n_{i,\\downarrow} - \\mu (n_{i,\\uparrow}+n_{i,\\downarrow}).$$\n",
    "\n",
    "You can use the parameters $(t=-1, U=0.5, \\mu=0)$. The reference ground state energy is $-10.8564601187$.\n",
    "\n",
    "\n",
    "Note: \n",
    "\n",
    "1) You can validate the correctness of your code by setting $U=0$, and the energy should agree with that obtained from diagonalizing the quadratic part. \n",
    "\n",
    "2) Due to the length of the code, you may want to write a separate Julia / python code instead of using the notebook directly.\n",
    "\n",
    "3) Some useful convention:\n",
    "\n",
    "- Each site has dimension 4, with the convention following the Kronecker product: spin up $\\otimes$ spin down, i.e. the spin down occupies the inner dimension (row-major)\n",
    "\n",
    "- For creation operators $c_{i,\\sigma}^\\dagger$, larger $i$ occupies the inner dimension (i.e. row-major, consistent with Kronecker product)\n",
    "\n",
    "- The Jordan-Wigner transformation is\n",
    "\n",
    "$$c_{i,\\sigma} = \\sigma_z\\otimes\\cdots \\otimes \\sigma_z \\otimes A_{\\sigma} \\otimes I\\otimes \\cdots\\otimes I,$$\n",
    "\n",
    "i.e. the pairity accumulates towards the left direction. This means the convention for creating a determinant is e.g. $c_{1,\\sigma}^{\\dagger}c_{2,\\sigma}^{\\dagger}c_{3,\\sigma}^{\\dagger}\\vert 0\\rangle$.\n",
    "\n",
    "After the JW transformation, the 1D Hubbard model becomes again a local Hamiltonian\n",
    "\n",
    "$$H=-\\sum_{i=1}^{N-1} \\sum_{\\sigma} \\left[(a_{i,\\sigma}^{\\dagger} \\sigma^{z,\\uparrow,\\downarrow}_{i}) a_{i+1,\\sigma} + (\\sigma^{z,\\uparrow,\\downarrow}_{i} a_{i,\\sigma}) a_{i+1,\\sigma}^{\\dagger}  \\right]+  \\sum_{i=1}^L U n_{i,\\uparrow} n_{i,\\downarrow} - \\mu (n_{i,\\uparrow}+n_{i,\\downarrow}) n_{i,\\downarrow}.$$\n",
    "\n",
    "Here \n",
    "\n",
    "$$a_{i,\\sigma} =  I\\otimes \\cdots\\otimes I \\otimes A_{\\sigma} \\otimes I\\otimes \\cdots\\otimes I$$\n",
    "$$a^{\\dagger}_{i,\\sigma} =  I\\otimes \\cdots\\otimes I \\otimes A^{\\dagger}_{\\sigma} \\otimes I\\otimes \\cdots\\otimes I$$\n",
    "$$\\sigma^{z,\\uparrow,\\downarrow}_{i} = I\\otimes \\cdots\\otimes I \\otimes \\sigma^{z,\\uparrow,\\downarrow} \\otimes I\\otimes \\cdots\\otimes I$$\n",
    "\n",
    "are the bosonic annihilation and creation operator and commute (hence note the reversed order in the term $(\\sigma^{z,\\uparrow,\\downarrow}_{i} a_{i,\\sigma}) a_{i+1,\\sigma}^{\\dagger}$. This is OK since operators on different sites now commute), while the definition of $n_{i,\\sigma}$ are the same.\n",
    "\n",
    "4) Some references (you do not necessarily need to refer to these)\n",
    "\n",
    "    Eric Jeckelmann, Density-Matrix Renormalization Group Algorithms, 2008\n",
    "\n",
    "as well as the implementation from\n",
    "\n",
    "https://simple-dmrg.readthedocs.io/en/latest/\n",
    "\n",
    "https://dmrg101-tutorial.readthedocs.io/en/latest/index.html\n",
    "\n",
    "https://github.com/Andrew-Shen/DMRG/tree/master/DMRG-Hubbard\n"
   ]
  },
  {
   "cell_type": "markdown",
   "metadata": {},
   "source": [
    "**The following implementation is provided by Yu Tong**\n"
   ]
  },
  {
   "cell_type": "code",
   "execution_count": 2,
   "metadata": {},
   "outputs": [
    {
     "name": "stdout",
     "output_type": "stream",
     "text": [
      "('At iteration', 0, 'the energy is', -10.776815905697175)\n",
      "('At iteration', 1, 'the energy is', -10.852159247612283)\n",
      "('At iteration', 2, 'the energy is', -10.85425324124937)\n",
      "('At iteration', 3, 'the energy is', -10.854437364348053)\n",
      "('At iteration', 4, 'the energy is', -10.854473053676433)\n"
     ]
    }
   ],
   "source": [
    "import numpy as np\n",
    "import numpy.linalg as la\n",
    "import MPS\n",
    "import MPO\n",
    "import Utils\n",
    "\n",
    "L = 10\n",
    "D = 20  # bond dimension\n",
    "t = -1.0\n",
    "U = 0.5\n",
    "\n",
    "\n",
    "#Generate the Hubbard Hamiltonian in Matrix Product Operator representation:\n",
    "mpo = Utils.generate_hubbard_mpo(t,U,0.0,L)\n",
    "\n",
    "#random initial guess\n",
    "mps1 = Utils.generate_random_mps(L,4,D)\n",
    "\n",
    "#Optimize\n",
    "gs_energy = mpo.variation_ground_state(mps1,20,1e-4)"
   ]
  },
  {
   "cell_type": "markdown",
   "metadata": {},
   "source": [
    "**Code validation for the non-interacting system**"
   ]
  },
  {
   "cell_type": "code",
   "execution_count": 5,
   "metadata": {},
   "outputs": [
    {
     "name": "stdout",
     "output_type": "stream",
     "text": [
      "('At iteration', 0, 'the energy is', -11.975162136975287)\n",
      "('At iteration', 1, 'the energy is', -12.050585702179156)\n",
      "('At iteration', 2, 'the energy is', -12.051374396038375)\n",
      "('At iteration', 3, 'the energy is', -12.051395795824503)\n",
      "('The exact mean-field ground state energy is', -12.05334836666454)\n"
     ]
    }
   ],
   "source": [
    "L = 10\n",
    "D = 20\n",
    "t = -1.0\n",
    "U = 0.0\n",
    "mpo = Utils.generate_hubbard_mpo(t,U,0.0,L)\n",
    "mps1 = Utils.generate_random_mps(L,4,D)\n",
    "gs_energy = mpo.variation_ground_state(mps1,20,1e-4)\n",
    "\n",
    "h1e = -t*( np.diag(np.ones(L-1),1) + np.diag(np.ones(L-1),-1) )\n",
    "eigvals, eigvecs = la.eigh(h1e)\n",
    "ref_energy = 0.0\n",
    "for ev in eigvals:\n",
    "    if ev < 0.0:\n",
    "        ref_energy += ev\n",
    "ref_energy *= 2\n",
    "print(\"The exact mean-field ground state energy is\",ref_energy)"
   ]
  }
 ],
 "metadata": {
  "kernelspec": {
   "display_name": "Python 2",
   "language": "python",
   "name": "python2"
  },
  "language_info": {
   "codemirror_mode": {
    "name": "ipython",
    "version": 2
   },
   "file_extension": ".py",
   "mimetype": "text/x-python",
   "name": "python",
   "nbconvert_exporter": "python",
   "pygments_lexer": "ipython2",
   "version": "2.7.6"
  }
 },
 "nbformat": 4,
 "nbformat_minor": 2
}
